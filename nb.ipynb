{
 "cells": [
  {
   "cell_type": "code",
   "execution_count": 9,
   "id": "c964c4d9",
   "metadata": {},
   "outputs": [],
   "source": [
    "!export PYTHONPATH=$PYTHONPATH:$PWD/..:$PWD"
   ]
  },
  {
   "cell_type": "code",
   "execution_count": 1,
   "id": "1f5bc160",
   "metadata": {},
   "outputs": [
    {
     "name": "stderr",
     "output_type": "stream",
     "text": [
      "\u001b[1m[01:16:48.731]\u001b[0m \u001b[1;95mINFO \u001b[1;0m  \u001b[1mPhaseClassifier                                   \u001b[0mLoading configuration.\n"
     ]
    }
   ],
   "source": [
    "import torch\n",
    "from hydra.utils import instantiate\n",
    "from hydra import initialize, compose\n",
    "import hydra\n",
    "import matplotlib.pyplot as plt\n",
    "\n",
    "from PhaseClassifier import logging\n",
    "logger = logging.getLogger(__name__)\n",
    "\n",
    "from PhaseClassifier.scripts.run import setup_model"
   ]
  },
  {
   "cell_type": "code",
   "execution_count": 2,
   "id": "384ca760",
   "metadata": {},
   "outputs": [],
   "source": [
    "hydra.core.global_hydra.GlobalHydra.instance().clear()\n",
    "initialize(version_base=None, config_path=\"PhaseClassifier/config\")\n",
    "config=compose(config_name=\"config.yaml\")"
   ]
  },
  {
   "cell_type": "code",
   "execution_count": 3,
   "id": "9e9c869f",
   "metadata": {},
   "outputs": [
    {
     "name": "stderr",
     "output_type": "stream",
     "text": [
      "\u001b[1m[01:16:49.595]\u001b[0m \u001b[1;95mINFO \u001b[1;0m  \u001b[1mdata.dataManager                                  \u001b[0mLoading dataset: Ising\n",
      "\u001b[1m[01:16:49.597]\u001b[0m \u001b[1;95mINFO \u001b[1;0m  \u001b[1mdata.dataManager                                  \u001b[0mKeys: ['Label', 'Snapshot', 'Temperature']\n"
     ]
    },
    {
     "name": "stderr",
     "output_type": "stream",
     "text": [
      "\u001b[1m[01:16:49.722]\u001b[0m \u001b[1;95mINFO \u001b[1;0m  \u001b[1mdata.dataManager                                  \u001b[0mdict_keys(['Label', 'Snapshot', 'Temperature'])\n",
      "\u001b[1m[01:16:49.763]\u001b[0m \u001b[1;95mINFO \u001b[1;0m  \u001b[1mdata.dataManager                                  \u001b[0m<torch.utils.data.dataloader.DataLoader object at 0x7f03b499fa10>: 32000 events, 64 batches\n",
      "\u001b[1m[01:16:49.763]\u001b[0m \u001b[1;95mINFO \u001b[1;0m  \u001b[1mdata.dataManager                                  \u001b[0m<torch.utils.data.dataloader.DataLoader object at 0x7f03b44c9090>: 4000 events, 4 batches\n",
      "\u001b[1m[01:16:49.764]\u001b[0m \u001b[1;95mINFO \u001b[1;0m  \u001b[1mdata.dataManager                                  \u001b[0m<torch.utils.data.dataloader.DataLoader object at 0x7f03b44c8e10>: 4000 events, 4 batches\n",
      "\u001b[1m[01:16:49.765]\u001b[0m \u001b[1;95mINFO \u001b[1;0m  \u001b[1mmodel.modelCreator                                \u001b[0m::Creating Model\n",
      "\u001b[1m[01:16:49.768]\u001b[0m \u001b[1;95mINFO \u001b[1;0m  \u001b[1mPhaseClassifier.scripts.run                       \u001b[0mRequesting GPUs. GPU list :[2]\n",
      "\u001b[1m[01:16:49.768]\u001b[0m \u001b[1;95mINFO \u001b[1;0m  \u001b[1mPhaseClassifier.scripts.run                       \u001b[0mMain GPU : cuda:2\n",
      "\u001b[1m[01:16:49.935]\u001b[0m \u001b[1;95mINFO \u001b[1;0m  \u001b[1mPhaseClassifier.scripts.run                       \u001b[0mCUDA available\n"
     ]
    },
    {
     "name": "stdout",
     "output_type": "stream",
     "text": [
      "cuda:2\n"
     ]
    }
   ],
   "source": [
    "self = setup_model(config)"
   ]
  },
  {
   "cell_type": "code",
   "execution_count": 10,
   "id": "a15308e5",
   "metadata": {},
   "outputs": [],
   "source": [
    "x = next(iter(self.data_mgr.train_loader))"
   ]
  },
  {
   "cell_type": "code",
   "execution_count": 11,
   "id": "efdd9dca",
   "metadata": {},
   "outputs": [],
   "source": [
    "# x[0].shape\n",
    "pred = self.model(x[0].to(self.device))"
   ]
  },
  {
   "cell_type": "code",
   "execution_count": 13,
   "id": "7ed95e64",
   "metadata": {},
   "outputs": [
    {
     "data": {
      "text/plain": [
       "0.6930362582206726"
      ]
     },
     "execution_count": 13,
     "metadata": {},
     "output_type": "execute_result"
    }
   ],
   "source": [
    "import torch.nn.functional as F\n",
    "\n",
    "F.cross_entropy(pred, x[1][:,0].to(self.device)).item()"
   ]
  },
  {
   "cell_type": "code",
   "execution_count": 17,
   "id": "5cd7d786",
   "metadata": {},
   "outputs": [
    {
     "name": "stderr",
     "output_type": "stream",
     "text": [
      "\u001b[1m[01:18:17.463]\u001b[0m \u001b[1;95mINFO \u001b[1;0m  \u001b[1mengine.engine                                     \u001b[0mEpoch: 0 \t Batch Loss: 0.0054\n"
     ]
    }
   ],
   "source": [
    "self.eval_model(self.data_mgr.val_loader, 0)"
   ]
  },
  {
   "cell_type": "code",
   "execution_count": 16,
   "id": "2f876c20",
   "metadata": {},
   "outputs": [
    {
     "name": "stderr",
     "output_type": "stream",
     "text": [
      "\u001b[1m[01:18:13.934]\u001b[0m \u001b[1;95mINFO \u001b[1;0m  \u001b[1mengine.engine                                     \u001b[0mEpoch: 0 [0/64 (0%)]\t Batch Loss: 0.0045\n",
      "\u001b[1m[01:18:13.982]\u001b[0m \u001b[1;95mINFO \u001b[1;0m  \u001b[1mengine.engine                                     \u001b[0mEpoch: 0 [6/64 (9%)]\t Batch Loss: 0.0055\n",
      "\u001b[1m[01:18:14.024]\u001b[0m \u001b[1;95mINFO \u001b[1;0m  \u001b[1mengine.engine                                     \u001b[0mEpoch: 0 [12/64 (19%)]\t Batch Loss: 0.0053\n",
      "\u001b[1m[01:18:14.069]\u001b[0m \u001b[1;95mINFO \u001b[1;0m  \u001b[1mengine.engine                                     \u001b[0mEpoch: 0 [18/64 (28%)]\t Batch Loss: 0.0067\n",
      "\u001b[1m[01:18:14.107]\u001b[0m \u001b[1;95mINFO \u001b[1;0m  \u001b[1mengine.engine                                     \u001b[0mEpoch: 0 [24/64 (38%)]\t Batch Loss: 0.0047\n",
      "\u001b[1m[01:18:14.142]\u001b[0m \u001b[1;95mINFO \u001b[1;0m  \u001b[1mengine.engine                                     \u001b[0mEpoch: 0 [30/64 (47%)]\t Batch Loss: 0.0032\n",
      "\u001b[1m[01:18:14.179]\u001b[0m \u001b[1;95mINFO \u001b[1;0m  \u001b[1mengine.engine                                     \u001b[0mEpoch: 0 [36/64 (56%)]\t Batch Loss: 0.0056\n",
      "\u001b[1m[01:18:14.214]\u001b[0m \u001b[1;95mINFO \u001b[1;0m  \u001b[1mengine.engine                                     \u001b[0mEpoch: 0 [42/64 (66%)]\t Batch Loss: 0.0065\n",
      "\u001b[1m[01:18:14.259]\u001b[0m \u001b[1;95mINFO \u001b[1;0m  \u001b[1mengine.engine                                     \u001b[0mEpoch: 0 [48/64 (75%)]\t Batch Loss: 0.0042\n",
      "\u001b[1m[01:18:14.296]\u001b[0m \u001b[1;95mINFO \u001b[1;0m  \u001b[1mengine.engine                                     \u001b[0mEpoch: 0 [54/64 (84%)]\t Batch Loss: 0.0026\n",
      "\u001b[1m[01:18:14.333]\u001b[0m \u001b[1;95mINFO \u001b[1;0m  \u001b[1mengine.engine                                     \u001b[0mEpoch: 0 [60/64 (94%)]\t Batch Loss: 0.0043\n"
     ]
    }
   ],
   "source": [
    "self.fit_model(0)"
   ]
  },
  {
   "cell_type": "code",
   "execution_count": null,
   "id": "c7a58306",
   "metadata": {},
   "outputs": [],
   "source": []
  }
 ],
 "metadata": {
  "kernelspec": {
   "display_name": "Python 3 (ipykernel)",
   "language": "python",
   "name": "python3"
  },
  "language_info": {
   "codemirror_mode": {
    "name": "ipython",
    "version": 3
   },
   "file_extension": ".py",
   "mimetype": "text/x-python",
   "name": "python",
   "nbconvert_exporter": "python",
   "pygments_lexer": "ipython3",
   "version": "3.13.5"
  }
 },
 "nbformat": 4,
 "nbformat_minor": 5
}
