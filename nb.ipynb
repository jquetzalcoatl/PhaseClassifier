{
 "cells": [
  {
   "cell_type": "code",
   "execution_count": 6,
   "id": "c964c4d9",
   "metadata": {},
   "outputs": [],
   "source": [
    "!export PYTHONPATH=$PYTHONPATH:$PWD/..:$PWD"
   ]
  },
  {
   "cell_type": "code",
   "execution_count": 22,
   "id": "1f5bc160",
   "metadata": {},
   "outputs": [],
   "source": [
    "import torch\n",
    "from hydra.utils import instantiate\n",
    "from hydra import initialize, compose\n",
    "import hydra\n",
    "import matplotlib.pyplot as plt\n",
    "\n",
    "from PhaseClassifier import logging\n",
    "logger = logging.getLogger(__name__)"
   ]
  },
  {
   "cell_type": "code",
   "execution_count": 38,
   "id": "384ca760",
   "metadata": {},
   "outputs": [],
   "source": [
    "hydra.core.global_hydra.GlobalHydra.instance().clear()\n",
    "initialize(version_base=None, config_path=\"PhaseClassifier/config\")\n",
    "config=compose(config_name=\"config.yaml\")"
   ]
  },
  {
   "cell_type": "code",
   "execution_count": 39,
   "id": "9e9c869f",
   "metadata": {},
   "outputs": [
    {
     "data": {
      "text/plain": [
       "{'data': {'dataset_name': 'Ising', 'data_path': '/raid/javier/Projects/PhaseClassifier/Dataset/data.hdf5', 'frac_train_dataset': 0.8, 'frac_val_dataset': 0.1}, 'run_path': '', 'config_path': '', 'device': 'gpu', 'gpu_list': [1], 'n_epochs': 250, 'epoch_start': 0}"
      ]
     },
     "execution_count": 39,
     "metadata": {},
     "output_type": "execute_result"
    }
   ],
   "source": [
    "config"
   ]
  },
  {
   "cell_type": "code",
   "execution_count": null,
   "id": "a15308e5",
   "metadata": {},
   "outputs": [],
   "source": []
  },
  {
   "cell_type": "code",
   "execution_count": null,
   "id": "cf10d303",
   "metadata": {},
   "outputs": [],
   "source": [
    "from torch.utils.data import DataLoader, Dataset\n",
    "\n",
    "class myDataset(Dataset):\n",
    "    def __init__(self, dataset):\n",
    "        self.snapshot, self.label = dataset[0], dataset[1]\n",
    "\n",
    "    def __len__(self):\n",
    "        return len(self.snapshot)\n",
    "\n",
    "    def __getitem__(self, index):\n",
    "        return self.snapshot[index, :].float(), self.label[index, :].float()\n",
    "\n",
    "\n",
    "class DataManager():\n",
    "    def __init__(self, cfg=None):\n",
    "        self._config = cfg\n",
    "        self.select_dataset()          # for different datasets\n",
    "        # self.create_dataloaders()      # slice into train/val/test\n",
    "\n",
    "    def load_dataset(self):\n",
    "        with h5py.File(self._config.data.data_path, 'r') as file:\n",
    "            self.f = {}\n",
    "            logger.info(\"Keys: %s\" % list(file.keys()))\n",
    "            for key in file.keys():\n",
    "                self.f[key] = torch.tensor(np.array(file[key]))\n",
    "\n",
    "        logger.info(f'{self.f.keys()}')\n",
    "\n",
    "    def select_dataset(self):\n",
    "        logger.info(f\"Loading dataset: {self._config.data.dataset_name}\")\n",
    "        self.load_dataset()\n",
    "\n",
    "    def create_dataloaders(self):\n",
    "        total = self.f[\"Snapshot\"].shape[0]\n",
    "        frac_train = self._config.data.frac_train_dataset\n",
    "        frac_val = self._config.data.frac_val_dataset\n",
    "\n",
    "        tr = int(np.floor(total * frac_train/2))\n",
    "        va = int(np.floor(total * frac_val/2))\n",
    "\n",
    "        tr_idx = list(range(tr)) + list(range(int(np.floor(total/2)), int(np.floor(total/2))+tr))\n",
    "        va_idx = list(range(tr, tr + va)) + list(range(int(np.floor(total/2))+tr, int(np.floor(total/2))+tr + va))\n",
    "        te_idx = list(range(tr + va, int(np.floor(total/2)))) + list(range(int(np.floor(total/2))+tr + va, total))\n",
    "\n",
    "        assert list(set(range(total)) - set(tr_idx) - set(va_idx) - set(te_idx)) == []\n",
    "\n",
    "        snapshot = self.f[\"Snapshot\"]\n",
    "        label = self.f[\"Label\"]\n",
    "\n",
    "        self.train_loader = DataLoader(\n",
    "            myDataset((snapshot[tr_idx, :], label[tr_idx, :])),\n",
    "            batch_size=self._config.data.batch_size_tr,\n",
    "            shuffle=True,\n",
    "            num_workers=self._config.data.num_workers\n",
    "        )\n",
    "\n",
    "        self.val_loader = DataLoader(\n",
    "            myDataset((snapshot[va_idx, :], label[va_idx, :])),\n",
    "            batch_size=self._config.data.batch_size_val,\n",
    "            shuffle=False,\n",
    "            num_workers=self._config.data.num_workers\n",
    "        )\n",
    "\n",
    "        self.test_loader = DataLoader(\n",
    "            myDataset((snapshot[te_idx, :], label[te_idx, :])),\n",
    "            batch_size=self._config.data.batch_size_test,\n",
    "            shuffle=False,\n",
    "            num_workers=self._config.data.num_workers\n",
    "        )\n",
    "        \n",
    "        logger.info(\"{0}: {2} events, {1} batches\".format(self.train_loader, len(self.train_loader), len(self.train_loader.dataset)))\n",
    "        logger.info(\"{0}: {2} events, {1} batches\".format(self.test_loader, len(self.test_loader), len(self.test_loader.dataset)))\n",
    "        logger.info(\"{0}: {2} events, {1} batches\".format(self.val_loader, len(self.val_loader), len(self.val_loader.dataset)))"
   ]
  },
  {
   "cell_type": "code",
   "execution_count": 48,
   "id": "a0387e4e",
   "metadata": {},
   "outputs": [
    {
     "name": "stderr",
     "output_type": "stream",
     "text": [
      "\u001b[1m[18:34:40.380]\u001b[0m \u001b[1;95mINFO \u001b[1;0m  \u001b[1m__main__                                          \u001b[0mLoading dataset: Ising\n",
      "\u001b[1m[18:34:40.381]\u001b[0m \u001b[1;95mINFO \u001b[1;0m  \u001b[1m__main__                                          \u001b[0mKeys: ['Label', 'Snapshot', 'Temperature']\n",
      "\u001b[1m[18:34:40.484]\u001b[0m \u001b[1;95mINFO \u001b[1;0m  \u001b[1m__main__                                          \u001b[0mdict_keys(['Label', 'Snapshot', 'Temperature'])\n"
     ]
    }
   ],
   "source": [
    "self = DataManager(config)"
   ]
  },
  {
   "cell_type": "code",
   "execution_count": 57,
   "id": "fa88f3de",
   "metadata": {},
   "outputs": [],
   "source": [
    "total = self.f[\"Snapshot\"].shape[0]\n",
    "frac_train = self._config.data.frac_train_dataset\n",
    "frac_val = self._config.data.frac_val_dataset\n",
    "\n",
    "tr = int(np.floor(total * frac_train/2))\n",
    "va = int(np.floor(total * frac_val/2))\n",
    "\n",
    "tr_idx = list(range(tr)) + list(range(int(np.floor(total/2)), int(np.floor(total/2))+tr))\n",
    "va_idx = list(range(tr, tr + va)) + list(range(int(np.floor(total/2))+tr, int(np.floor(total/2))+tr + va))\n",
    "te_idx = list(range(tr + va, int(np.floor(total/2)))) + list(range(int(np.floor(total/2))+tr + va, total))"
   ]
  },
  {
   "cell_type": "code",
   "execution_count": 61,
   "id": "1196dc66",
   "metadata": {},
   "outputs": [
    {
     "data": {
      "text/plain": [
       "[<matplotlib.lines.Line2D at 0x7f4c6d2a1bd0>]"
      ]
     },
     "execution_count": 61,
     "metadata": {},
     "output_type": "execute_result"
    },
    {
     "data": {
      "image/png": "[encoded data removed]",
      "text/plain": [
       "<Figure size 640x480 with 1 Axes>"
      ]
     },
     "metadata": {},
     "output_type": "display_data"
    }
   ],
   "source": [
    "# plt.plot(torch.nonzero(d['Label'] == 0)[:,0].numpy())\n",
    "# plt.plot(dm.f[\"Label\"].numpy())\n",
    "plt.plot(tr_idx + va_idx + te_idx)"
   ]
  },
  {
   "cell_type": "code",
   "execution_count": 71,
   "id": "64146c00",
   "metadata": {},
   "outputs": [],
   "source": [
    "assert list(set(range(total)) - set(tr_idx) - set(va_idx) - set(te_idx)) == []"
   ]
  },
  {
   "cell_type": "code",
   "execution_count": 33,
   "id": "58152171",
   "metadata": {},
   "outputs": [
    {
     "data": {
      "text/plain": [
       "tensor([26662, 26674, 26673,  ..., 24997, 24996, 24995])"
      ]
     },
     "execution_count": 33,
     "metadata": {},
     "output_type": "execute_result"
    }
   ],
   "source": [
    "torch.sort(d['Label'][:,0]).indices"
   ]
  },
  {
   "cell_type": "code",
   "execution_count": null,
   "id": "e8431d69",
   "metadata": {},
   "outputs": [],
   "source": []
  }
 ],
 "metadata": {
  "kernelspec": {
   "display_name": "Python 3 (ipykernel)",
   "language": "python",
   "name": "python3"
  },
  "language_info": {
   "codemirror_mode": {
    "name": "ipython",
    "version": 3
   },
   "file_extension": ".py",
   "mimetype": "text/x-python",
   "name": "python",
   "nbconvert_exporter": "python",
   "pygments_lexer": "ipython3",
   "version": "3.13.5"
  }
 },
 "nbformat": 4,
 "nbformat_minor": 5
}
