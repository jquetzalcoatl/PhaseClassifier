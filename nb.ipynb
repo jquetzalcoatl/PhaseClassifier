{
 "cells": [
  {
   "cell_type": "code",
   "execution_count": 9,
   "id": "c964c4d9",
   "metadata": {},
   "outputs": [],
   "source": [
    "!export PYTHONPATH=$PYTHONPATH:$PWD/..:$PWD"
   ]
  },
  {
   "cell_type": "code",
   "execution_count": 1,
   "id": "1f5bc160",
   "metadata": {},
   "outputs": [
    {
     "name": "stderr",
     "output_type": "stream",
     "text": [
      "\u001b[1m[12:56:18.930]\u001b[0m \u001b[1;95mINFO \u001b[1;0m  \u001b[1mPhaseClassifier                                   \u001b[0mLoading configuration.\n"
     ]
    }
   ],
   "source": [
    "import torch\n",
    "from hydra.utils import instantiate\n",
    "from hydra import initialize, compose\n",
    "import hydra\n",
    "import matplotlib.pyplot as plt\n",
    "\n",
    "from PhaseClassifier import logging\n",
    "logger = logging.getLogger(__name__)\n",
    "\n",
    "from PhaseClassifier.scripts.run import setup_model, load_model_instance"
   ]
  },
  {
   "cell_type": "code",
   "execution_count": 23,
   "id": "384ca760",
   "metadata": {},
   "outputs": [],
   "source": [
    "hydra.core.global_hydra.GlobalHydra.instance().clear()\n",
    "initialize(version_base=None, config_path=\"PhaseClassifier/config\")\n",
    "config=compose(config_name=\"config.yaml\")"
   ]
  },
  {
   "cell_type": "code",
   "execution_count": 24,
   "id": "9e9c869f",
   "metadata": {},
   "outputs": [
    {
     "name": "stderr",
     "output_type": "stream",
     "text": [
      "\u001b[1m[13:09:05.458]\u001b[0m \u001b[1;95mINFO \u001b[1;0m  \u001b[1mdata.dataManager                                  \u001b[0mLoading dataset: Ising\n",
      "\u001b[1m[13:09:05.459]\u001b[0m \u001b[1;95mINFO \u001b[1;0m  \u001b[1mdata.dataManager                                  \u001b[0mKeys: ['Label', 'Snapshot', 'Temperature']\n",
      "\u001b[1m[13:09:05.586]\u001b[0m \u001b[1;95mINFO \u001b[1;0m  \u001b[1mdata.dataManager                                  \u001b[0mdict_keys(['Label', 'Snapshot', 'Temperature'])\n",
      "\u001b[1m[13:09:05.634]\u001b[0m \u001b[1;95mINFO \u001b[1;0m  \u001b[1mdata.dataManager                                  \u001b[0m<torch.utils.data.dataloader.DataLoader object at 0x7f1f722f03e0>: 32000 events, 64 batches\n",
      "\u001b[1m[13:09:05.634]\u001b[0m \u001b[1;95mINFO \u001b[1;0m  \u001b[1mdata.dataManager                                  \u001b[0m<torch.utils.data.dataloader.DataLoader object at 0x7f1ef0378290>: 4000 events, 4 batches\n",
      "\u001b[1m[13:09:05.634]\u001b[0m \u001b[1;95mINFO \u001b[1;0m  \u001b[1mdata.dataManager                                  \u001b[0m<torch.utils.data.dataloader.DataLoader object at 0x7f1f722f0770>: 4000 events, 4 batches\n",
      "\u001b[1m[13:09:05.635]\u001b[0m \u001b[1;95mINFO \u001b[1;0m  \u001b[1mmodel.modelCreator                                \u001b[0m::Creating Model\n",
      "\u001b[1m[13:09:05.638]\u001b[0m \u001b[1;95mINFO \u001b[1;0m  \u001b[1mPhaseClassifier.scripts.run                       \u001b[0mRequesting GPUs. GPU list :[2]\n",
      "\u001b[1m[13:09:05.638]\u001b[0m \u001b[1;95mINFO \u001b[1;0m  \u001b[1mPhaseClassifier.scripts.run                       \u001b[0mMain GPU : cuda:2\n",
      "\u001b[1m[13:09:05.638]\u001b[0m \u001b[1;95mINFO \u001b[1;0m  \u001b[1mPhaseClassifier.scripts.run                       \u001b[0mCUDA available\n",
      "\u001b[1m[13:09:05.640]\u001b[0m \u001b[1;95mINFO \u001b[1;0m  \u001b[1mmodel.modelCreator                                \u001b[0mLoading state\n",
      "\u001b[1m[13:09:05.643]\u001b[0m \u001b[1;95mINFO \u001b[1;0m  \u001b[1mmodel.modelCreator                                \u001b[0mLoading weights from file : /raid/javier/Projects/PhaseClassifier/Results/wandb/run-20250823_130802-6welshyl/files/transformer_Final.pth\n"
     ]
    },
    {
     "name": "stdout",
     "output_type": "stream",
     "text": [
      "cuda:2\n",
      "Loading weights for module =  seq\n",
      "Loading weights for module =  lm_head1\n",
      "Loading weights for module =  sa_head\n",
      "Loading weights for module =  lm_head2\n",
      "Loading weights for module =  conv\n"
     ]
    }
   ],
   "source": [
    "# self = setup_model(config)\n",
    "new_model = False\n",
    "if new_model:\n",
    "    self = setup_model(config)\n",
    "    # self.model = self.model.double()  # sets all model parameters to float64\n",
    "else:\n",
    "    self = load_model_instance(config, False)\n",
    "    # self.model = self.model.double()"
   ]
  },
  {
   "cell_type": "code",
   "execution_count": 25,
   "id": "f64a2acc",
   "metadata": {},
   "outputs": [
    {
     "name": "stdout",
     "output_type": "stream",
     "text": [
      "test_labels shape: torch.Size([4000]) unique labels: tensor([0, 1])\n",
      "test_temps shape: torch.Size([4000])\n"
     ]
    },
    {
     "name": "stderr",
     "output_type": "stream",
     "text": [
      "/tmp/ipykernel_1902046/3103514412.py:9: UserWarning: Implicit dimension choice for softmax has been deprecated. Change the call to include dim=X as an argument.\n",
      "  pred_list.append(F.softmax(pred).argmax(dim=1).cpu())\n"
     ]
    }
   ],
   "source": [
    "# collect all labels from the test loader into a single 1D tensor (on CPU)\n",
    "self.model.eval()\n",
    "with torch.no_grad():\n",
    "    pred_list = []\n",
    "    temp_list = []\n",
    "    for (x,y,t) in self.data_mgr.test_loader:\n",
    "        x = x.to(self.device)\n",
    "        pred = self.model(x)\n",
    "        pred_list.append(F.softmax(pred).argmax(dim=1).cpu())\n",
    "        temp_list.append(t[:,0].cpu())\n",
    "    test_preds = torch.cat(pred_list, dim=0)\n",
    "    test_temps = torch.cat(temp_list, dim=0)\n",
    "\n",
    "# example: print basic info\n",
    "print(\"test_labels shape:\", test_preds.shape, \"unique labels:\", torch.unique(test_preds))\n",
    "print(\"test_temps shape:\", test_temps.shape)"
   ]
  },
  {
   "cell_type": "code",
   "execution_count": 27,
   "id": "930bcfa7",
   "metadata": {},
   "outputs": [
    {
     "data": {
      "image/png": "[encoded data removed]",
      "text/plain": [
       "<Figure size 640x480 with 1 Axes>"
      ]
     },
     "metadata": {},
     "output_type": "display_data"
    }
   ],
   "source": [
    "plt.scatter( test_temps, test_preds)\n",
    "plt.xlabel('Temperature')\n",
    "plt.ylabel('Predicted Phase')\n",
    "plt.show()"
   ]
  },
  {
   "cell_type": "code",
   "execution_count": null,
   "id": "947fe703",
   "metadata": {},
   "outputs": [],
   "source": []
  }
 ],
 "metadata": {
  "kernelspec": {
   "display_name": "Python 3 (ipykernel)",
   "language": "python",
   "name": "python3"
  },
  "language_info": {
   "codemirror_mode": {
    "name": "ipython",
    "version": 3
   },
   "file_extension": ".py",
   "mimetype": "text/x-python",
   "name": "python",
   "nbconvert_exporter": "python",
   "pygments_lexer": "ipython3",
   "version": "3.13.5"
  }
 },
 "nbformat": 4,
 "nbformat_minor": 5
}
